{
 "cells": [
  {
   "cell_type": "markdown",
   "id": "939828a4-13e1-43b3-96bc-bc323feca7f7",
   "metadata": {},
   "source": [
    "# Data Science Tools and Ecosystem"
   ]
  },
  {
   "cell_type": "markdown",
   "id": "7847b362-f473-4997-aa85-425c083a4892",
   "metadata": {
    "tags": []
   },
   "source": [
    "#### In this notebook, Data Science Tools and Ecosystem are summarized."
   ]
  },
  {
   "cell_type": "markdown",
   "id": "10dbde67-0ae9-4419-a828-a0258412f050",
   "metadata": {},
   "source": [
    "***Objectives:***\n",
    "* Python\n",
    "* R\n",
    "* SQL\n",
    "* Java\n",
    "* Julia\n",
    "* Scala\n",
    "* C/C++\n",
    "* JavaScript\n",
    "* Swift\n",
    "* Go\n",
    "* MATLAB\n",
    "* SAS\n"
   ]
  },
  {
   "cell_type": "markdown",
   "id": "ba0c66dd-baa0-4ef8-bcb8-393333af7c1d",
   "metadata": {
    "tags": []
   },
   "source": [
    "#### Some of the popular languages that Data Scientists use are:"
   ]
  },
  {
   "cell_type": "markdown",
   "id": "2b2cdc5b-cb95-4b76-8a50-ac6a040ef2d2",
   "metadata": {
    "tags": []
   },
   "source": [
    "1. Python\n",
    "2. R\n",
    "3. Scala"
   ]
  },
  {
   "cell_type": "markdown",
   "id": "603018c5-f5ee-4e6d-bb08-ce87ed79a791",
   "metadata": {},
   "source": [
    "### Some of the commonly used libraries used by Data Scientists include:"
   ]
  },
  {
   "cell_type": "markdown",
   "id": "60ff9de4-912e-408c-af60-2be194eef2f5",
   "metadata": {},
   "source": [
    "1. Pandas.\n",
    "2. Keras.\n",
    "3. Scikit-Learn.\n",
    "4. SciPy.\n",
    "5. Matplotlib."
   ]
  },
  {
   "cell_type": "markdown",
   "id": "6641c1b1-eb2c-44f5-a86f-9858162d106e",
   "metadata": {},
   "source": [
    "|Data Science Tools|\n",
    "-\n",
    "|Apache Spark|\n",
    "|Hapoop| \n",
    "|Neo4j|"
   ]
  },
  {
   "cell_type": "markdown",
   "id": "f25fec0a-2a7b-4ee8-8868-05f7432e9904",
   "metadata": {},
   "source": [
    "<h3>Below are a few examples of evaluating arithmetic expressions in Python</h3>"
   ]
  },
  {
   "cell_type": "code",
   "execution_count": 23,
   "id": "ed999b09-83c3-4c06-b7e6-dd53282e5a06",
   "metadata": {
    "tags": []
   },
   "outputs": [
    {
     "name": "stdout",
     "output_type": "stream",
     "text": [
      "Addition 30\n",
      "Subtraction 10\n",
      "Multiplication 200\n",
      "Division 2.0\n",
      "Mod 0\n"
     ]
    }
   ],
   "source": [
    "a = 20\n",
    "b= 10\n",
    "c = a + b\n",
    "d = a - b\n",
    "e = a * b\n",
    "f = a / b\n",
    "g = a % b\n",
    "print('Addition',c)\n",
    "print('Subtraction',d)\n",
    "print('Multiplication',e)\n",
    "print('Division',f)\n",
    "print('Mod',g)"
   ]
  },
  {
   "cell_type": "code",
   "execution_count": 24,
   "id": "a1c50c9e-cd03-40ea-9816-647d4a823237",
   "metadata": {
    "tags": []
   },
   "outputs": [
    {
     "data": {
      "text/plain": [
       "17"
      ]
     },
     "execution_count": 24,
     "metadata": {},
     "output_type": "execute_result"
    }
   ],
   "source": [
    "#This a simple arithmetic expression to mutiply then add integers\n",
    "(3*4)+5"
   ]
  },
  {
   "cell_type": "code",
   "execution_count": 16,
   "id": "7e63221c-8e95-4954-8cb1-3c97065be313",
   "metadata": {
    "tags": []
   },
   "outputs": [
    {
     "data": {
      "text/plain": [
       "3.3333333333333335"
      ]
     },
     "execution_count": 16,
     "metadata": {},
     "output_type": "execute_result"
    }
   ],
   "source": [
    "#This will convert 200 minutes to hours by diving by 60\n",
    "minutes = 200\n",
    "hour = minutes / 60\n",
    "hour"
   ]
  },
  {
   "cell_type": "markdown",
   "id": "ca40df90-32a3-492e-88de-6a75fab85c7e",
   "metadata": {
    "tags": []
   },
   "source": [
    "<h2>Author</h2>"
   ]
  },
  {
   "cell_type": "markdown",
   "id": "992748b4-03e2-4bc0-acb6-ac06b959f721",
   "metadata": {
    "tags": []
   },
   "source": [
    "Aditya Deshmukh"
   ]
  },
  {
   "cell_type": "code",
   "execution_count": null,
   "id": "04275b91-59aa-4d51-9e83-8fd55c350448",
   "metadata": {},
   "outputs": [],
   "source": []
  }
 ],
 "metadata": {
  "kernelspec": {
   "display_name": "Python",
   "language": "python",
   "name": "conda-env-python-py"
  },
  "language_info": {
   "codemirror_mode": {
    "name": "ipython",
    "version": 3
   },
   "file_extension": ".py",
   "mimetype": "text/x-python",
   "name": "python",
   "nbconvert_exporter": "python",
   "pygments_lexer": "ipython3",
   "version": "3.7.12"
  }
 },
 "nbformat": 4,
 "nbformat_minor": 5
}
